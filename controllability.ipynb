{
 "cells": [
  {
   "cell_type": "code",
   "execution_count": 25,
   "metadata": {},
   "outputs": [],
   "source": [
    "from DiffFlatQuad.robot import PlanerQuadrotor\n",
    "import sympy as sp"
   ]
  },
  {
   "cell_type": "code",
   "execution_count": 26,
   "metadata": {},
   "outputs": [],
   "source": [
    "robot = PlanerQuadrotor(rendering=False)"
   ]
  },
  {
   "cell_type": "code",
   "execution_count": 27,
   "metadata": {},
   "outputs": [
    {
     "data": {
      "text/latex": [
       "$\\displaystyle \\left[\\begin{matrix}\\operatorname{x_{2}}{\\left(t \\right)}\\\\0\\\\\\operatorname{x_{4}}{\\left(t \\right)}\\\\- g\\\\\\operatorname{x_{6}}{\\left(t \\right)}\\\\0\\end{matrix}\\right]$"
      ],
      "text/plain": [
       "Matrix([\n",
       "[x2(t)],\n",
       "[    0],\n",
       "[x4(t)],\n",
       "[   -g],\n",
       "[x6(t)],\n",
       "[    0]])"
      ]
     },
     "execution_count": 27,
     "metadata": {},
     "output_type": "execute_result"
    }
   ],
   "source": [
    "robot.getSymbolicF()"
   ]
  },
  {
   "cell_type": "code",
   "execution_count": 28,
   "metadata": {},
   "outputs": [
    {
     "data": {
      "text/latex": [
       "$\\displaystyle \\left[\\begin{matrix}0 & 0\\\\- \\frac{\\sin{\\left(\\operatorname{x_{5}}{\\left(t \\right)} \\right)}}{m} & 0\\\\0 & 0\\\\\\frac{\\cos{\\left(\\operatorname{x_{5}}{\\left(t \\right)} \\right)}}{m} & 0\\\\0 & 0\\\\0 & \\frac{1}{J}\\end{matrix}\\right]$"
      ],
      "text/plain": [
       "Matrix([\n",
       "[            0,   0],\n",
       "[-sin(x5(t))/m,   0],\n",
       "[            0,   0],\n",
       "[ cos(x5(t))/m,   0],\n",
       "[            0,   0],\n",
       "[            0, 1/J]])"
      ]
     },
     "execution_count": 28,
     "metadata": {},
     "output_type": "execute_result"
    }
   ],
   "source": [
    "robot.getSymbolicG()"
   ]
  },
  {
   "cell_type": "code",
   "execution_count": 29,
   "metadata": {},
   "outputs": [
    {
     "data": {
      "text/latex": [
       "$\\displaystyle \\left[\\begin{matrix}\\operatorname{x_{1}}{\\left(t \\right)}\\\\\\operatorname{x_{2}}{\\left(t \\right)}\\\\\\operatorname{x_{3}}{\\left(t \\right)}\\\\\\operatorname{x_{4}}{\\left(t \\right)}\\\\\\operatorname{x_{5}}{\\left(t \\right)}\\\\\\operatorname{x_{6}}{\\left(t \\right)}\\end{matrix}\\right]$"
      ],
      "text/plain": [
       "Matrix([\n",
       "[x1(t)],\n",
       "[x2(t)],\n",
       "[x3(t)],\n",
       "[x4(t)],\n",
       "[x5(t)],\n",
       "[x6(t)]])"
      ]
     },
     "execution_count": 29,
     "metadata": {},
     "output_type": "execute_result"
    }
   ],
   "source": [
    "robot.symbolic_state"
   ]
  },
  {
   "cell_type": "code",
   "execution_count": 30,
   "metadata": {},
   "outputs": [
    {
     "data": {
      "text/latex": [
       "$\\displaystyle \\left[\\begin{matrix}\\operatorname{u_{1}}{\\left(t \\right)}\\\\\\operatorname{u_{2}}{\\left(t \\right)}\\end{matrix}\\right]$"
      ],
      "text/plain": [
       "Matrix([\n",
       "[u1(t)],\n",
       "[u2(t)]])"
      ]
     },
     "execution_count": 30,
     "metadata": {},
     "output_type": "execute_result"
    }
   ],
   "source": [
    "robot.symbolic_input"
   ]
  },
  {
   "cell_type": "code",
   "execution_count": 31,
   "metadata": {},
   "outputs": [],
   "source": [
    "f = robot.getSymbolicF()\n",
    "g = robot.getSymbolicG()\n",
    "x = robot.symbolic_state\n",
    "g1 = g[:,0]\n",
    "g2 = g[:,1]\n",
    "t = sp.symbols('t')\n"
   ]
  },
  {
   "cell_type": "code",
   "execution_count": 32,
   "metadata": {},
   "outputs": [],
   "source": [
    "def lieDerivative(a, b, x):\n",
    "    \"\"\" \n",
    "    returns the L_a(b)\n",
    "    \"\"\"\n",
    "    return b.jacobian(x)*a\n",
    "\n",
    "def lieBracket(a,b,x):\n",
    "    return lieDerivative(a, b, x)-lieDerivative(b, a, x)"
   ]
  },
  {
   "cell_type": "code",
   "execution_count": 33,
   "metadata": {},
   "outputs": [],
   "source": [
    "def isInDist(dist, vec):\n",
    "    \"\"\"\n",
    "    Is vec in distribution dist?\n",
    "    \"\"\"\n",
    "    d = dist[0].copy()\n",
    "    for i in range(len(dist)-1):\n",
    "        d = d.row_join(dist[i+1])\n",
    "    rank1 = d.rank()\n",
    "    d = d.row_join(vec)\n",
    "    rank2 = d.rank()\n",
    "    if rank2 > rank1:\n",
    "        return False\n",
    "    else:\n",
    "        return True\n",
    "    \n",
    "def getDistRank(dist):\n",
    "    \"\"\"\n",
    "    return the rank of distribution spanned by list of vecs in dist\n",
    "    \"\"\"\n",
    "    d = dist[0].copy()\n",
    "    for i in range(len(dist)-1):\n",
    "        d = d.row_join(dist[i+1])\n",
    "    return d.rank()\n",
    "\n",
    "def dist2Matrix(dist):\n",
    "    \"\"\"\n",
    "    return the rank of distribution spanned by list of vecs in dist\n",
    "    \"\"\"\n",
    "    d = dist[0].copy()\n",
    "    for i in range(len(dist)-1):\n",
    "        d = d.row_join(dist[i+1])\n",
    "    return d\n",
    "\n",
    "def getSmallestInvariantDistribution(dist, vec_fields, x):\n",
    "    \"\"\"\n",
    "    Returns the smallest distribution invariant to vectors in the \n",
    "    vec_fields list and containing distribution spanned by the \n",
    "    vector fields in dist list. \n",
    "    \"\"\"\n",
    "    running = True\n",
    "    result = []\n",
    "    result +=dist\n",
    "    while running:\n",
    "        added_something = False\n",
    "        for vec1 in result:\n",
    "            for vec2 in vec_fields:\n",
    "                vec3 = lieBracket(vec1, vec2, x)\n",
    "                if not isInDist(result, vec3):\n",
    "                    result +=[vec3]\n",
    "                    added_something = True\n",
    "        if not added_something:\n",
    "            running = False\n",
    "    \n",
    "    return result\n",
    "                    \n",
    "        "
   ]
  },
  {
   "cell_type": "code",
   "execution_count": 34,
   "metadata": {},
   "outputs": [
    {
     "data": {
      "text/plain": [
       "6"
      ]
     },
     "execution_count": 34,
     "metadata": {},
     "output_type": "execute_result"
    }
   ],
   "source": [
    "result = getSmallestInvariantDistribution([g1,g2], [f,g1,g2],x)\n",
    "len(result)"
   ]
  },
  {
   "cell_type": "code",
   "execution_count": 36,
   "metadata": {},
   "outputs": [
    {
     "data": {
      "text/latex": [
       "$\\displaystyle \\left[\\begin{matrix}0 & 0 & - \\frac{\\sin{\\left(\\operatorname{x_{5}}{\\left(t \\right)} \\right)}}{m} & 0 & \\frac{2 \\operatorname{x_{6}}{\\left(t \\right)} \\cos{\\left(\\operatorname{x_{5}}{\\left(t \\right)} \\right)}}{m} & 0\\\\- \\frac{\\sin{\\left(\\operatorname{x_{5}}{\\left(t \\right)} \\right)}}{m} & 0 & \\frac{\\operatorname{x_{6}}{\\left(t \\right)} \\cos{\\left(\\operatorname{x_{5}}{\\left(t \\right)} \\right)}}{m} & 0 & \\frac{\\operatorname{x_{6}}^{2}{\\left(t \\right)} \\sin{\\left(\\operatorname{x_{5}}{\\left(t \\right)} \\right)}}{m} & - \\frac{\\cos{\\left(\\operatorname{x_{5}}{\\left(t \\right)} \\right)}}{J m}\\\\0 & 0 & \\frac{\\cos{\\left(\\operatorname{x_{5}}{\\left(t \\right)} \\right)}}{m} & 0 & \\frac{2 \\operatorname{x_{6}}{\\left(t \\right)} \\sin{\\left(\\operatorname{x_{5}}{\\left(t \\right)} \\right)}}{m} & 0\\\\\\frac{\\cos{\\left(\\operatorname{x_{5}}{\\left(t \\right)} \\right)}}{m} & 0 & \\frac{\\operatorname{x_{6}}{\\left(t \\right)} \\sin{\\left(\\operatorname{x_{5}}{\\left(t \\right)} \\right)}}{m} & 0 & - \\frac{\\operatorname{x_{6}}^{2}{\\left(t \\right)} \\cos{\\left(\\operatorname{x_{5}}{\\left(t \\right)} \\right)}}{m} & - \\frac{\\sin{\\left(\\operatorname{x_{5}}{\\left(t \\right)} \\right)}}{J m}\\\\0 & 0 & 0 & \\frac{1}{J} & 0 & 0\\\\0 & \\frac{1}{J} & 0 & 0 & 0 & 0\\end{matrix}\\right]$"
      ],
      "text/plain": [
       "Matrix([\n",
       "[            0,   0,      -sin(x5(t))/m,   0,   2*x6(t)*cos(x5(t))/m,                 0],\n",
       "[-sin(x5(t))/m,   0, x6(t)*cos(x5(t))/m,   0,  x6(t)**2*sin(x5(t))/m, -cos(x5(t))/(J*m)],\n",
       "[            0,   0,       cos(x5(t))/m,   0,   2*x6(t)*sin(x5(t))/m,                 0],\n",
       "[ cos(x5(t))/m,   0, x6(t)*sin(x5(t))/m,   0, -x6(t)**2*cos(x5(t))/m, -sin(x5(t))/(J*m)],\n",
       "[            0,   0,                  0, 1/J,                      0,                 0],\n",
       "[            0, 1/J,                  0,   0,                      0,                 0]])"
      ]
     },
     "execution_count": 36,
     "metadata": {},
     "output_type": "execute_result"
    }
   ],
   "source": [
    "dist= dist2Matrix(result)\n",
    "dist\n"
   ]
  },
  {
   "cell_type": "code",
   "execution_count": 37,
   "metadata": {},
   "outputs": [
    {
     "name": "stdout",
     "output_type": "stream",
     "text": [
      "\\left[\\begin{matrix}0 & 0 & - \\frac{\\sin{\\left(\\operatorname{x_{5}}{\\left(t \\right)} \\right)}}{m} & 0 & \\frac{2 \\operatorname{x_{6}}{\\left(t \\right)} \\cos{\\left(\\operatorname{x_{5}}{\\left(t \\right)} \\right)}}{m} & 0\\\\- \\frac{\\sin{\\left(\\operatorname{x_{5}}{\\left(t \\right)} \\right)}}{m} & 0 & \\frac{\\operatorname{x_{6}}{\\left(t \\right)} \\cos{\\left(\\operatorname{x_{5}}{\\left(t \\right)} \\right)}}{m} & 0 & \\frac{\\operatorname{x_{6}}^{2}{\\left(t \\right)} \\sin{\\left(\\operatorname{x_{5}}{\\left(t \\right)} \\right)}}{m} & - \\frac{\\cos{\\left(\\operatorname{x_{5}}{\\left(t \\right)} \\right)}}{J m}\\\\0 & 0 & \\frac{\\cos{\\left(\\operatorname{x_{5}}{\\left(t \\right)} \\right)}}{m} & 0 & \\frac{2 \\operatorname{x_{6}}{\\left(t \\right)} \\sin{\\left(\\operatorname{x_{5}}{\\left(t \\right)} \\right)}}{m} & 0\\\\\\frac{\\cos{\\left(\\operatorname{x_{5}}{\\left(t \\right)} \\right)}}{m} & 0 & \\frac{\\operatorname{x_{6}}{\\left(t \\right)} \\sin{\\left(\\operatorname{x_{5}}{\\left(t \\right)} \\right)}}{m} & 0 & - \\frac{\\operatorname{x_{6}}^{2}{\\left(t \\right)} \\cos{\\left(\\operatorname{x_{5}}{\\left(t \\right)} \\right)}}{m} & - \\frac{\\sin{\\left(\\operatorname{x_{5}}{\\left(t \\right)} \\right)}}{J m}\\\\0 & 0 & 0 & \\frac{1}{J} & 0 & 0\\\\0 & \\frac{1}{J} & 0 & 0 & 0 & 0\\end{matrix}\\right]\n"
     ]
    }
   ],
   "source": [
    "\n",
    "from sympy import Matrix, print_latex\n",
    "\n",
    "print_latex(dist)"
   ]
  },
  {
   "cell_type": "code",
   "execution_count": 22,
   "metadata": {},
   "outputs": [
    {
     "name": "stdout",
     "output_type": "stream",
     "text": [
      "\\left[\\begin{matrix}\\operatorname{x_{2}}{\\left(t \\right)}\\\\0\\\\\\operatorname{x_{4}}{\\left(t \\right)}\\\\- g\\\\\\operatorname{x_{6}}{\\left(t \\right)}\\\\0\\end{matrix}\\right]\n"
     ]
    }
   ],
   "source": [
    "print_latex(f)"
   ]
  },
  {
   "cell_type": "code",
   "execution_count": null,
   "metadata": {},
   "outputs": [],
   "source": []
  }
 ],
 "metadata": {
  "kernelspec": {
   "display_name": "Python 3",
   "language": "python",
   "name": "python3"
  },
  "language_info": {
   "codemirror_mode": {
    "name": "ipython",
    "version": 3
   },
   "file_extension": ".py",
   "mimetype": "text/x-python",
   "name": "python",
   "nbconvert_exporter": "python",
   "pygments_lexer": "ipython3",
   "version": "3.10.12"
  }
 },
 "nbformat": 4,
 "nbformat_minor": 2
}
