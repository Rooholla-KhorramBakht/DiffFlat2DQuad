{
 "cells": [
  {
   "cell_type": "code",
   "execution_count": 1,
   "metadata": {},
   "outputs": [
    {
     "name": "stdout",
     "output_type": "stream",
     "text": [
      "pygame 2.1.2 (SDL 2.0.16, Python 3.8.10)\n",
      "Hello from the pygame community. https://www.pygame.org/contribute.html\n"
     ]
    }
   ],
   "source": [
    "from DiffFlatQuad.robot import PlanerQuadrotor"
   ]
  },
  {
   "cell_type": "code",
   "execution_count": 2,
   "metadata": {},
   "outputs": [],
   "source": [
    "robot = PlanerQuadrotor(rendering=False)"
   ]
  },
  {
   "cell_type": "code",
   "execution_count": 3,
   "metadata": {},
   "outputs": [
    {
     "data": {
      "text/latex": [
       "$\\displaystyle \\left[\\begin{matrix}x_{2}\\\\0\\\\x_{4}\\\\- g\\\\x_{6}\\\\0\\end{matrix}\\right]$"
      ],
      "text/plain": [
       "Matrix([\n",
       "[x_2],\n",
       "[  0],\n",
       "[x_4],\n",
       "[ -g],\n",
       "[x_6],\n",
       "[  0]])"
      ]
     },
     "execution_count": 3,
     "metadata": {},
     "output_type": "execute_result"
    }
   ],
   "source": [
    "robot.getSymbolicF()"
   ]
  },
  {
   "cell_type": "code",
   "execution_count": 4,
   "metadata": {},
   "outputs": [
    {
     "data": {
      "text/latex": [
       "$\\displaystyle \\left[\\begin{matrix}u_{1}\\\\u_{2}\\end{matrix}\\right]$"
      ],
      "text/plain": [
       "Matrix([\n",
       "[u_1],\n",
       "[u_2]])"
      ]
     },
     "execution_count": 4,
     "metadata": {},
     "output_type": "execute_result"
    }
   ],
   "source": [
    "robot.symbolic_input"
   ]
  },
  {
   "cell_type": "code",
   "execution_count": 5,
   "metadata": {},
   "outputs": [],
   "source": [
    "f = robot.getSymbolicF()\n",
    "g = robot.getSymbolicG()\n",
    "x = robot.symbolic_state\n",
    "g1 = g[:,0]\n",
    "g2 = g[:,1]\n"
   ]
  },
  {
   "cell_type": "code",
   "execution_count": 6,
   "metadata": {},
   "outputs": [],
   "source": [
    "def lieDerivative(a, b, x):\n",
    "    \"\"\" \n",
    "    returns the L_a(b)\n",
    "    \"\"\"\n",
    "    return b.jacobian(x)*a\n",
    "\n",
    "def lieBracket(a,b,x):\n",
    "    return lieDerivative(a, b, x)-lieDerivative(b, a, x)"
   ]
  },
  {
   "cell_type": "code",
   "execution_count": 7,
   "metadata": {},
   "outputs": [
    {
     "data": {
      "text/latex": [
       "$\\displaystyle \\left[\\begin{matrix}\\frac{\\sin{\\left(x_{5} \\right)}}{m}\\\\- \\frac{x_{6} \\cos{\\left(x_{5} \\right)}}{m}\\\\\\frac{\\cos{\\left(x_{5} \\right)}}{m}\\\\\\frac{x_{6} \\sin{\\left(x_{5} \\right)}}{m}\\\\0\\\\0\\end{matrix}\\right]$"
      ],
      "text/plain": [
       "Matrix([\n",
       "[     sin(x_5)/m],\n",
       "[-x_6*cos(x_5)/m],\n",
       "[     cos(x_5)/m],\n",
       "[ x_6*sin(x_5)/m],\n",
       "[              0],\n",
       "[              0]])"
      ]
     },
     "execution_count": 7,
     "metadata": {},
     "output_type": "execute_result"
    }
   ],
   "source": [
    "c = lieBracket(g1,f, x)\n",
    "c"
   ]
  },
  {
   "cell_type": "code",
   "execution_count": 43,
   "metadata": {},
   "outputs": [
    {
     "data": {
      "text/latex": [
       "$\\displaystyle \\left[\\begin{matrix}- x_{5} \\left(x_{5} \\left(\\frac{x_{5} \\cos{\\left(x_{5} \\right)}}{m} + \\frac{2 \\sin{\\left(x_{5} \\right)}}{m}\\right) - x_{5} \\left(- x_{5} \\left(- \\frac{x_{5} \\sin{\\left(x_{5} \\right)}}{m} + \\frac{3 \\cos{\\left(x_{5} \\right)}}{m}\\right) - \\frac{2 x_{5} \\cos{\\left(x_{5} \\right)}}{m} - \\frac{4 \\sin{\\left(x_{5} \\right)}}{m}\\right) + x_{5} \\cdot \\left(2 x_{5} \\left(- \\frac{x_{5} \\sin{\\left(x_{5} \\right)}}{m} + \\frac{3 \\cos{\\left(x_{5} \\right)}}{m}\\right) - x_{5} \\left(- x_{5} \\left(- \\frac{x_{5} \\cos{\\left(x_{5} \\right)}}{m} - \\frac{4 \\sin{\\left(x_{5} \\right)}}{m}\\right) + \\frac{3 x_{5} \\sin{\\left(x_{5} \\right)}}{m} - \\frac{9 \\cos{\\left(x_{5} \\right)}}{m}\\right) + \\frac{4 x_{5} \\cos{\\left(x_{5} \\right)}}{m} + \\frac{8 \\sin{\\left(x_{5} \\right)}}{m}\\right) - x_{5} \\left(- 4 x_{5} \\left(- \\frac{x_{5} \\sin{\\left(x_{5} \\right)}}{m} + \\frac{3 \\cos{\\left(x_{5} \\right)}}{m}\\right) + 2 x_{5} \\left(- x_{5} \\left(- \\frac{x_{5} \\cos{\\left(x_{5} \\right)}}{m} - \\frac{4 \\sin{\\left(x_{5} \\right)}}{m}\\right) + \\frac{3 x_{5} \\sin{\\left(x_{5} \\right)}}{m} - \\frac{9 \\cos{\\left(x_{5} \\right)}}{m}\\right) - x_{5} \\cdot \\left(3 x_{5} \\left(- \\frac{x_{5} \\cos{\\left(x_{5} \\right)}}{m} - \\frac{4 \\sin{\\left(x_{5} \\right)}}{m}\\right) - x_{5} \\left(- x_{5} \\left(\\frac{x_{5} \\sin{\\left(x_{5} \\right)}}{m} - \\frac{5 \\cos{\\left(x_{5} \\right)}}{m}\\right) + \\frac{4 x_{5} \\cos{\\left(x_{5} \\right)}}{m} + \\frac{16 \\sin{\\left(x_{5} \\right)}}{m}\\right) - \\frac{9 x_{5} \\sin{\\left(x_{5} \\right)}}{m} + \\frac{27 \\cos{\\left(x_{5} \\right)}}{m}\\right) - \\frac{8 x_{5} \\cos{\\left(x_{5} \\right)}}{m} - \\frac{16 \\sin{\\left(x_{5} \\right)}}{m}\\right) + \\frac{x_{5} \\sin{\\left(x_{5} \\right)}}{m} - \\frac{\\cos{\\left(x_{5} \\right)}}{m}\\right) - x_{5} \\cdot \\left(4 x_{5} \\left(\\frac{x_{5} \\cos{\\left(x_{5} \\right)}}{m} + \\frac{2 \\sin{\\left(x_{5} \\right)}}{m}\\right) + x_{5} \\cdot \\left(\\frac{2 x_{5} \\cos{\\left(x_{5} \\right)}}{m} + \\frac{4 \\sin{\\left(x_{5} \\right)}}{m}\\right) - 3 x_{5} \\left(- x_{5} \\left(- \\frac{x_{5} \\sin{\\left(x_{5} \\right)}}{m} + \\frac{3 \\cos{\\left(x_{5} \\right)}}{m}\\right) - \\frac{2 x_{5} \\cos{\\left(x_{5} \\right)}}{m} - \\frac{4 \\sin{\\left(x_{5} \\right)}}{m}\\right) - x_{5} \\left(- x_{5} \\left(- \\frac{2 x_{5} \\sin{\\left(x_{5} \\right)}}{m} + \\frac{6 \\cos{\\left(x_{5} \\right)}}{m}\\right) - x_{5} \\left(- \\frac{x_{5} \\sin{\\left(x_{5} \\right)}}{m} + \\frac{3 \\cos{\\left(x_{5} \\right)}}{m}\\right) - \\frac{6 x_{5} \\cos{\\left(x_{5} \\right)}}{m} - \\frac{12 \\sin{\\left(x_{5} \\right)}}{m}\\right) + 2 x_{5} \\cdot \\left(2 x_{5} \\left(- \\frac{x_{5} \\sin{\\left(x_{5} \\right)}}{m} + \\frac{3 \\cos{\\left(x_{5} \\right)}}{m}\\right) - x_{5} \\left(- x_{5} \\left(- \\frac{x_{5} \\cos{\\left(x_{5} \\right)}}{m} - \\frac{4 \\sin{\\left(x_{5} \\right)}}{m}\\right) + \\frac{3 x_{5} \\sin{\\left(x_{5} \\right)}}{m} - \\frac{9 \\cos{\\left(x_{5} \\right)}}{m}\\right) + \\frac{4 x_{5} \\cos{\\left(x_{5} \\right)}}{m} + \\frac{8 \\sin{\\left(x_{5} \\right)}}{m}\\right) - x_{5} \\left(- 4 x_{5} \\left(- \\frac{x_{5} \\sin{\\left(x_{5} \\right)}}{m} + \\frac{3 \\cos{\\left(x_{5} \\right)}}{m}\\right) + 2 x_{5} \\left(- x_{5} \\left(- \\frac{x_{5} \\cos{\\left(x_{5} \\right)}}{m} - \\frac{4 \\sin{\\left(x_{5} \\right)}}{m}\\right) + \\frac{3 x_{5} \\sin{\\left(x_{5} \\right)}}{m} - \\frac{9 \\cos{\\left(x_{5} \\right)}}{m}\\right) - x_{5} \\cdot \\left(3 x_{5} \\left(- \\frac{x_{5} \\cos{\\left(x_{5} \\right)}}{m} - \\frac{4 \\sin{\\left(x_{5} \\right)}}{m}\\right) - x_{5} \\left(- x_{5} \\left(\\frac{x_{5} \\sin{\\left(x_{5} \\right)}}{m} - \\frac{5 \\cos{\\left(x_{5} \\right)}}{m}\\right) + \\frac{4 x_{5} \\cos{\\left(x_{5} \\right)}}{m} + \\frac{16 \\sin{\\left(x_{5} \\right)}}{m}\\right) - \\frac{9 x_{5} \\sin{\\left(x_{5} \\right)}}{m} + \\frac{27 \\cos{\\left(x_{5} \\right)}}{m}\\right) - \\frac{8 x_{5} \\cos{\\left(x_{5} \\right)}}{m} - \\frac{16 \\sin{\\left(x_{5} \\right)}}{m}\\right) + x_{5} \\cdot \\left(2 x_{5} \\left(- \\frac{2 x_{5} \\sin{\\left(x_{5} \\right)}}{m} + \\frac{6 \\cos{\\left(x_{5} \\right)}}{m}\\right) + 4 x_{5} \\left(- \\frac{x_{5} \\sin{\\left(x_{5} \\right)}}{m} + \\frac{3 \\cos{\\left(x_{5} \\right)}}{m}\\right) - x_{5} \\left(- x_{5} \\left(- \\frac{x_{5} \\cos{\\left(x_{5} \\right)}}{m} - \\frac{4 \\sin{\\left(x_{5} \\right)}}{m}\\right) + \\frac{3 x_{5} \\sin{\\left(x_{5} \\right)}}{m} - \\frac{9 \\cos{\\left(x_{5} \\right)}}{m}\\right) - x_{5} \\left(- x_{5} \\left(- \\frac{2 x_{5} \\cos{\\left(x_{5} \\right)}}{m} - \\frac{8 \\sin{\\left(x_{5} \\right)}}{m}\\right) - x_{5} \\left(- \\frac{x_{5} \\cos{\\left(x_{5} \\right)}}{m} - \\frac{4 \\sin{\\left(x_{5} \\right)}}{m}\\right) + \\frac{9 x_{5} \\sin{\\left(x_{5} \\right)}}{m} - \\frac{27 \\cos{\\left(x_{5} \\right)}}{m}\\right) + \\frac{16 x_{5} \\cos{\\left(x_{5} \\right)}}{m} + \\frac{32 \\sin{\\left(x_{5} \\right)}}{m}\\right) - x_{5} \\left(- 4 x_{5} \\left(- \\frac{2 x_{5} \\sin{\\left(x_{5} \\right)}}{m} + \\frac{6 \\cos{\\left(x_{5} \\right)}}{m}\\right) - 12 x_{5} \\left(- \\frac{x_{5} \\sin{\\left(x_{5} \\right)}}{m} + \\frac{3 \\cos{\\left(x_{5} \\right)}}{m}\\right) + 4 x_{5} \\left(- x_{5} \\left(- \\frac{x_{5} \\cos{\\left(x_{5} \\right)}}{m} - \\frac{4 \\sin{\\left(x_{5} \\right)}}{m}\\right) + \\frac{3 x_{5} \\sin{\\left(x_{5} \\right)}}{m} - \\frac{9 \\cos{\\left(x_{5} \\right)}}{m}\\right) + 2 x_{5} \\left(- x_{5} \\left(- \\frac{2 x_{5} \\cos{\\left(x_{5} \\right)}}{m} - \\frac{8 \\sin{\\left(x_{5} \\right)}}{m}\\right) - x_{5} \\left(- \\frac{x_{5} \\cos{\\left(x_{5} \\right)}}{m} - \\frac{4 \\sin{\\left(x_{5} \\right)}}{m}\\right) + \\frac{9 x_{5} \\sin{\\left(x_{5} \\right)}}{m} - \\frac{27 \\cos{\\left(x_{5} \\right)}}{m}\\right) - x_{5} \\cdot \\left(3 x_{5} \\left(- \\frac{x_{5} \\cos{\\left(x_{5} \\right)}}{m} - \\frac{4 \\sin{\\left(x_{5} \\right)}}{m}\\right) - x_{5} \\left(- x_{5} \\left(\\frac{x_{5} \\sin{\\left(x_{5} \\right)}}{m} - \\frac{5 \\cos{\\left(x_{5} \\right)}}{m}\\right) + \\frac{4 x_{5} \\cos{\\left(x_{5} \\right)}}{m} + \\frac{16 \\sin{\\left(x_{5} \\right)}}{m}\\right) - \\frac{9 x_{5} \\sin{\\left(x_{5} \\right)}}{m} + \\frac{27 \\cos{\\left(x_{5} \\right)}}{m}\\right) - x_{5} \\cdot \\left(3 x_{5} \\left(- \\frac{2 x_{5} \\cos{\\left(x_{5} \\right)}}{m} - \\frac{8 \\sin{\\left(x_{5} \\right)}}{m}\\right) + 6 x_{5} \\left(- \\frac{x_{5} \\cos{\\left(x_{5} \\right)}}{m} - \\frac{4 \\sin{\\left(x_{5} \\right)}}{m}\\right) - x_{5} \\left(- x_{5} \\left(\\frac{x_{5} \\sin{\\left(x_{5} \\right)}}{m} - \\frac{5 \\cos{\\left(x_{5} \\right)}}{m}\\right) + \\frac{4 x_{5} \\cos{\\left(x_{5} \\right)}}{m} + \\frac{16 \\sin{\\left(x_{5} \\right)}}{m}\\right) - x_{5} \\left(- x_{5} \\left(\\frac{x_{5} \\sin{\\left(x_{5} \\right)}}{m} - \\frac{5 \\cos{\\left(x_{5} \\right)}}{m}\\right) - x_{5} \\cdot \\left(\\frac{2 x_{5} \\sin{\\left(x_{5} \\right)}}{m} - \\frac{10 \\cos{\\left(x_{5} \\right)}}{m}\\right) + \\frac{12 x_{5} \\cos{\\left(x_{5} \\right)}}{m} + \\frac{48 \\sin{\\left(x_{5} \\right)}}{m}\\right) - \\frac{36 x_{5} \\sin{\\left(x_{5} \\right)}}{m} + \\frac{108 \\cos{\\left(x_{5} \\right)}}{m}\\right) - \\frac{40 x_{5} \\cos{\\left(x_{5} \\right)}}{m} - \\frac{80 \\sin{\\left(x_{5} \\right)}}{m}\\right) + \\frac{6 x_{5} \\sin{\\left(x_{5} \\right)}}{m} - \\frac{6 \\cos{\\left(x_{5} \\right)}}{m}\\right)\\\\- x_{5} \\left(- x_{5} \\left(\\frac{x_{5} \\cos{\\left(x_{5} \\right)}}{m} + \\frac{2 \\sin{\\left(x_{5} \\right)}}{m}\\right) + x_{5} \\left(- x_{5} \\left(- \\frac{x_{5} \\sin{\\left(x_{5} \\right)}}{m} + \\frac{3 \\cos{\\left(x_{5} \\right)}}{m}\\right) - \\frac{2 x_{5} \\cos{\\left(x_{5} \\right)}}{m} - \\frac{4 \\sin{\\left(x_{5} \\right)}}{m}\\right) - x_{5} \\cdot \\left(2 x_{5} \\left(- \\frac{x_{5} \\sin{\\left(x_{5} \\right)}}{m} + \\frac{3 \\cos{\\left(x_{5} \\right)}}{m}\\right) - x_{5} \\left(- x_{5} \\left(- \\frac{x_{5} \\cos{\\left(x_{5} \\right)}}{m} - \\frac{4 \\sin{\\left(x_{5} \\right)}}{m}\\right) + \\frac{3 x_{5} \\sin{\\left(x_{5} \\right)}}{m} - \\frac{9 \\cos{\\left(x_{5} \\right)}}{m}\\right) + \\frac{4 x_{5} \\cos{\\left(x_{5} \\right)}}{m} + \\frac{8 \\sin{\\left(x_{5} \\right)}}{m}\\right) + x_{5} \\left(- 4 x_{5} \\left(- \\frac{x_{5} \\sin{\\left(x_{5} \\right)}}{m} + \\frac{3 \\cos{\\left(x_{5} \\right)}}{m}\\right) + 2 x_{5} \\left(- x_{5} \\left(- \\frac{x_{5} \\cos{\\left(x_{5} \\right)}}{m} - \\frac{4 \\sin{\\left(x_{5} \\right)}}{m}\\right) + \\frac{3 x_{5} \\sin{\\left(x_{5} \\right)}}{m} - \\frac{9 \\cos{\\left(x_{5} \\right)}}{m}\\right) - x_{5} \\cdot \\left(3 x_{5} \\left(- \\frac{x_{5} \\cos{\\left(x_{5} \\right)}}{m} - \\frac{4 \\sin{\\left(x_{5} \\right)}}{m}\\right) - x_{5} \\left(- x_{5} \\left(\\frac{x_{5} \\sin{\\left(x_{5} \\right)}}{m} - \\frac{5 \\cos{\\left(x_{5} \\right)}}{m}\\right) + \\frac{4 x_{5} \\cos{\\left(x_{5} \\right)}}{m} + \\frac{16 \\sin{\\left(x_{5} \\right)}}{m}\\right) - \\frac{9 x_{5} \\sin{\\left(x_{5} \\right)}}{m} + \\frac{27 \\cos{\\left(x_{5} \\right)}}{m}\\right) - \\frac{8 x_{5} \\cos{\\left(x_{5} \\right)}}{m} - \\frac{16 \\sin{\\left(x_{5} \\right)}}{m}\\right) - x_{5} \\cdot \\left(8 x_{5} \\left(- \\frac{x_{5} \\sin{\\left(x_{5} \\right)}}{m} + \\frac{3 \\cos{\\left(x_{5} \\right)}}{m}\\right) - 4 x_{5} \\left(- x_{5} \\left(- \\frac{x_{5} \\cos{\\left(x_{5} \\right)}}{m} - \\frac{4 \\sin{\\left(x_{5} \\right)}}{m}\\right) + \\frac{3 x_{5} \\sin{\\left(x_{5} \\right)}}{m} - \\frac{9 \\cos{\\left(x_{5} \\right)}}{m}\\right) + 2 x_{5} \\cdot \\left(3 x_{5} \\left(- \\frac{x_{5} \\cos{\\left(x_{5} \\right)}}{m} - \\frac{4 \\sin{\\left(x_{5} \\right)}}{m}\\right) - x_{5} \\left(- x_{5} \\left(\\frac{x_{5} \\sin{\\left(x_{5} \\right)}}{m} - \\frac{5 \\cos{\\left(x_{5} \\right)}}{m}\\right) + \\frac{4 x_{5} \\cos{\\left(x_{5} \\right)}}{m} + \\frac{16 \\sin{\\left(x_{5} \\right)}}{m}\\right) - \\frac{9 x_{5} \\sin{\\left(x_{5} \\right)}}{m} + \\frac{27 \\cos{\\left(x_{5} \\right)}}{m}\\right) - x_{5} \\left(- 9 x_{5} \\left(- \\frac{x_{5} \\cos{\\left(x_{5} \\right)}}{m} - \\frac{4 \\sin{\\left(x_{5} \\right)}}{m}\\right) + 3 x_{5} \\left(- x_{5} \\left(\\frac{x_{5} \\sin{\\left(x_{5} \\right)}}{m} - \\frac{5 \\cos{\\left(x_{5} \\right)}}{m}\\right) + \\frac{4 x_{5} \\cos{\\left(x_{5} \\right)}}{m} + \\frac{16 \\sin{\\left(x_{5} \\right)}}{m}\\right) - x_{5} \\cdot \\left(4 x_{5} \\left(\\frac{x_{5} \\sin{\\left(x_{5} \\right)}}{m} - \\frac{5 \\cos{\\left(x_{5} \\right)}}{m}\\right) - x_{5} \\left(- x_{5} \\left(\\frac{x_{5} \\cos{\\left(x_{5} \\right)}}{m} + \\frac{6 \\sin{\\left(x_{5} \\right)}}{m}\\right) - \\frac{5 x_{5} \\sin{\\left(x_{5} \\right)}}{m} + \\frac{25 \\cos{\\left(x_{5} \\right)}}{m}\\right) - \\frac{16 x_{5} \\cos{\\left(x_{5} \\right)}}{m} - \\frac{64 \\sin{\\left(x_{5} \\right)}}{m}\\right) + \\frac{27 x_{5} \\sin{\\left(x_{5} \\right)}}{m} - \\frac{81 \\cos{\\left(x_{5} \\right)}}{m}\\right) + \\frac{16 x_{5} \\cos{\\left(x_{5} \\right)}}{m} + \\frac{32 \\sin{\\left(x_{5} \\right)}}{m}\\right) - \\frac{x_{5} \\sin{\\left(x_{5} \\right)}}{m} + \\frac{\\cos{\\left(x_{5} \\right)}}{m}\\right)\\\\- x_{5} \\left(x_{5} \\left(- \\frac{x_{5} \\sin{\\left(x_{5} \\right)}}{m} + \\frac{2 \\cos{\\left(x_{5} \\right)}}{m}\\right) - x_{5} \\left(- x_{5} \\left(- \\frac{x_{5} \\cos{\\left(x_{5} \\right)}}{m} - \\frac{3 \\sin{\\left(x_{5} \\right)}}{m}\\right) + \\frac{2 x_{5} \\sin{\\left(x_{5} \\right)}}{m} - \\frac{4 \\cos{\\left(x_{5} \\right)}}{m}\\right) + x_{5} \\cdot \\left(2 x_{5} \\left(- \\frac{x_{5} \\cos{\\left(x_{5} \\right)}}{m} - \\frac{3 \\sin{\\left(x_{5} \\right)}}{m}\\right) - x_{5} \\left(- x_{5} \\left(\\frac{x_{5} \\sin{\\left(x_{5} \\right)}}{m} - \\frac{4 \\cos{\\left(x_{5} \\right)}}{m}\\right) + \\frac{3 x_{5} \\cos{\\left(x_{5} \\right)}}{m} + \\frac{9 \\sin{\\left(x_{5} \\right)}}{m}\\right) - \\frac{4 x_{5} \\sin{\\left(x_{5} \\right)}}{m} + \\frac{8 \\cos{\\left(x_{5} \\right)}}{m}\\right) - x_{5} \\left(- 4 x_{5} \\left(- \\frac{x_{5} \\cos{\\left(x_{5} \\right)}}{m} - \\frac{3 \\sin{\\left(x_{5} \\right)}}{m}\\right) + 2 x_{5} \\left(- x_{5} \\left(\\frac{x_{5} \\sin{\\left(x_{5} \\right)}}{m} - \\frac{4 \\cos{\\left(x_{5} \\right)}}{m}\\right) + \\frac{3 x_{5} \\cos{\\left(x_{5} \\right)}}{m} + \\frac{9 \\sin{\\left(x_{5} \\right)}}{m}\\right) - x_{5} \\cdot \\left(3 x_{5} \\left(\\frac{x_{5} \\sin{\\left(x_{5} \\right)}}{m} - \\frac{4 \\cos{\\left(x_{5} \\right)}}{m}\\right) - x_{5} \\left(- x_{5} \\left(\\frac{x_{5} \\cos{\\left(x_{5} \\right)}}{m} + \\frac{5 \\sin{\\left(x_{5} \\right)}}{m}\\right) - \\frac{4 x_{5} \\sin{\\left(x_{5} \\right)}}{m} + \\frac{16 \\cos{\\left(x_{5} \\right)}}{m}\\right) - \\frac{9 x_{5} \\cos{\\left(x_{5} \\right)}}{m} - \\frac{27 \\sin{\\left(x_{5} \\right)}}{m}\\right) + \\frac{8 x_{5} \\sin{\\left(x_{5} \\right)}}{m} - \\frac{16 \\cos{\\left(x_{5} \\right)}}{m}\\right) + \\frac{x_{5} \\cos{\\left(x_{5} \\right)}}{m} + \\frac{\\sin{\\left(x_{5} \\right)}}{m}\\right) - x_{5} \\left(x_{5} \\left(- \\frac{2 x_{5} \\sin{\\left(x_{5} \\right)}}{m} + \\frac{4 \\cos{\\left(x_{5} \\right)}}{m}\\right) + 4 x_{5} \\left(- \\frac{x_{5} \\sin{\\left(x_{5} \\right)}}{m} + \\frac{2 \\cos{\\left(x_{5} \\right)}}{m}\\right) - 3 x_{5} \\left(- x_{5} \\left(- \\frac{x_{5} \\cos{\\left(x_{5} \\right)}}{m} - \\frac{3 \\sin{\\left(x_{5} \\right)}}{m}\\right) + \\frac{2 x_{5} \\sin{\\left(x_{5} \\right)}}{m} - \\frac{4 \\cos{\\left(x_{5} \\right)}}{m}\\right) - x_{5} \\left(- x_{5} \\left(- \\frac{2 x_{5} \\cos{\\left(x_{5} \\right)}}{m} - \\frac{6 \\sin{\\left(x_{5} \\right)}}{m}\\right) - x_{5} \\left(- \\frac{x_{5} \\cos{\\left(x_{5} \\right)}}{m} - \\frac{3 \\sin{\\left(x_{5} \\right)}}{m}\\right) + \\frac{6 x_{5} \\sin{\\left(x_{5} \\right)}}{m} - \\frac{12 \\cos{\\left(x_{5} \\right)}}{m}\\right) + 2 x_{5} \\cdot \\left(2 x_{5} \\left(- \\frac{x_{5} \\cos{\\left(x_{5} \\right)}}{m} - \\frac{3 \\sin{\\left(x_{5} \\right)}}{m}\\right) - x_{5} \\left(- x_{5} \\left(\\frac{x_{5} \\sin{\\left(x_{5} \\right)}}{m} - \\frac{4 \\cos{\\left(x_{5} \\right)}}{m}\\right) + \\frac{3 x_{5} \\cos{\\left(x_{5} \\right)}}{m} + \\frac{9 \\sin{\\left(x_{5} \\right)}}{m}\\right) - \\frac{4 x_{5} \\sin{\\left(x_{5} \\right)}}{m} + \\frac{8 \\cos{\\left(x_{5} \\right)}}{m}\\right) - x_{5} \\left(- 4 x_{5} \\left(- \\frac{x_{5} \\cos{\\left(x_{5} \\right)}}{m} - \\frac{3 \\sin{\\left(x_{5} \\right)}}{m}\\right) + 2 x_{5} \\left(- x_{5} \\left(\\frac{x_{5} \\sin{\\left(x_{5} \\right)}}{m} - \\frac{4 \\cos{\\left(x_{5} \\right)}}{m}\\right) + \\frac{3 x_{5} \\cos{\\left(x_{5} \\right)}}{m} + \\frac{9 \\sin{\\left(x_{5} \\right)}}{m}\\right) - x_{5} \\cdot \\left(3 x_{5} \\left(\\frac{x_{5} \\sin{\\left(x_{5} \\right)}}{m} - \\frac{4 \\cos{\\left(x_{5} \\right)}}{m}\\right) - x_{5} \\left(- x_{5} \\left(\\frac{x_{5} \\cos{\\left(x_{5} \\right)}}{m} + \\frac{5 \\sin{\\left(x_{5} \\right)}}{m}\\right) - \\frac{4 x_{5} \\sin{\\left(x_{5} \\right)}}{m} + \\frac{16 \\cos{\\left(x_{5} \\right)}}{m}\\right) - \\frac{9 x_{5} \\cos{\\left(x_{5} \\right)}}{m} - \\frac{27 \\sin{\\left(x_{5} \\right)}}{m}\\right) + \\frac{8 x_{5} \\sin{\\left(x_{5} \\right)}}{m} - \\frac{16 \\cos{\\left(x_{5} \\right)}}{m}\\right) + x_{5} \\cdot \\left(2 x_{5} \\left(- \\frac{2 x_{5} \\cos{\\left(x_{5} \\right)}}{m} - \\frac{6 \\sin{\\left(x_{5} \\right)}}{m}\\right) + 4 x_{5} \\left(- \\frac{x_{5} \\cos{\\left(x_{5} \\right)}}{m} - \\frac{3 \\sin{\\left(x_{5} \\right)}}{m}\\right) - x_{5} \\left(- x_{5} \\left(\\frac{x_{5} \\sin{\\left(x_{5} \\right)}}{m} - \\frac{4 \\cos{\\left(x_{5} \\right)}}{m}\\right) + \\frac{3 x_{5} \\cos{\\left(x_{5} \\right)}}{m} + \\frac{9 \\sin{\\left(x_{5} \\right)}}{m}\\right) - x_{5} \\left(- x_{5} \\left(\\frac{x_{5} \\sin{\\left(x_{5} \\right)}}{m} - \\frac{4 \\cos{\\left(x_{5} \\right)}}{m}\\right) - x_{5} \\cdot \\left(\\frac{2 x_{5} \\sin{\\left(x_{5} \\right)}}{m} - \\frac{8 \\cos{\\left(x_{5} \\right)}}{m}\\right) + \\frac{9 x_{5} \\cos{\\left(x_{5} \\right)}}{m} + \\frac{27 \\sin{\\left(x_{5} \\right)}}{m}\\right) - \\frac{16 x_{5} \\sin{\\left(x_{5} \\right)}}{m} + \\frac{32 \\cos{\\left(x_{5} \\right)}}{m}\\right) - x_{5} \\left(- 4 x_{5} \\left(- \\frac{2 x_{5} \\cos{\\left(x_{5} \\right)}}{m} - \\frac{6 \\sin{\\left(x_{5} \\right)}}{m}\\right) - 12 x_{5} \\left(- \\frac{x_{5} \\cos{\\left(x_{5} \\right)}}{m} - \\frac{3 \\sin{\\left(x_{5} \\right)}}{m}\\right) + 4 x_{5} \\left(- x_{5} \\left(\\frac{x_{5} \\sin{\\left(x_{5} \\right)}}{m} - \\frac{4 \\cos{\\left(x_{5} \\right)}}{m}\\right) + \\frac{3 x_{5} \\cos{\\left(x_{5} \\right)}}{m} + \\frac{9 \\sin{\\left(x_{5} \\right)}}{m}\\right) + 2 x_{5} \\left(- x_{5} \\left(\\frac{x_{5} \\sin{\\left(x_{5} \\right)}}{m} - \\frac{4 \\cos{\\left(x_{5} \\right)}}{m}\\right) - x_{5} \\cdot \\left(\\frac{2 x_{5} \\sin{\\left(x_{5} \\right)}}{m} - \\frac{8 \\cos{\\left(x_{5} \\right)}}{m}\\right) + \\frac{9 x_{5} \\cos{\\left(x_{5} \\right)}}{m} + \\frac{27 \\sin{\\left(x_{5} \\right)}}{m}\\right) - x_{5} \\cdot \\left(3 x_{5} \\left(\\frac{x_{5} \\sin{\\left(x_{5} \\right)}}{m} - \\frac{4 \\cos{\\left(x_{5} \\right)}}{m}\\right) - x_{5} \\left(- x_{5} \\left(\\frac{x_{5} \\cos{\\left(x_{5} \\right)}}{m} + \\frac{5 \\sin{\\left(x_{5} \\right)}}{m}\\right) - \\frac{4 x_{5} \\sin{\\left(x_{5} \\right)}}{m} + \\frac{16 \\cos{\\left(x_{5} \\right)}}{m}\\right) - \\frac{9 x_{5} \\cos{\\left(x_{5} \\right)}}{m} - \\frac{27 \\sin{\\left(x_{5} \\right)}}{m}\\right) - x_{5} \\cdot \\left(6 x_{5} \\left(\\frac{x_{5} \\sin{\\left(x_{5} \\right)}}{m} - \\frac{4 \\cos{\\left(x_{5} \\right)}}{m}\\right) + 3 x_{5} \\cdot \\left(\\frac{2 x_{5} \\sin{\\left(x_{5} \\right)}}{m} - \\frac{8 \\cos{\\left(x_{5} \\right)}}{m}\\right) - x_{5} \\left(- x_{5} \\left(\\frac{x_{5} \\cos{\\left(x_{5} \\right)}}{m} + \\frac{5 \\sin{\\left(x_{5} \\right)}}{m}\\right) - \\frac{4 x_{5} \\sin{\\left(x_{5} \\right)}}{m} + \\frac{16 \\cos{\\left(x_{5} \\right)}}{m}\\right) - x_{5} \\left(- x_{5} \\left(\\frac{x_{5} \\cos{\\left(x_{5} \\right)}}{m} + \\frac{5 \\sin{\\left(x_{5} \\right)}}{m}\\right) - x_{5} \\cdot \\left(\\frac{2 x_{5} \\cos{\\left(x_{5} \\right)}}{m} + \\frac{10 \\sin{\\left(x_{5} \\right)}}{m}\\right) - \\frac{12 x_{5} \\sin{\\left(x_{5} \\right)}}{m} + \\frac{48 \\cos{\\left(x_{5} \\right)}}{m}\\right) - \\frac{36 x_{5} \\cos{\\left(x_{5} \\right)}}{m} - \\frac{108 \\sin{\\left(x_{5} \\right)}}{m}\\right) + \\frac{40 x_{5} \\sin{\\left(x_{5} \\right)}}{m} - \\frac{80 \\cos{\\left(x_{5} \\right)}}{m}\\right) + \\frac{6 x_{5} \\cos{\\left(x_{5} \\right)}}{m} + \\frac{6 \\sin{\\left(x_{5} \\right)}}{m}\\right)\\\\- x_{5} \\left(- x_{5} \\left(- \\frac{x_{5} \\sin{\\left(x_{5} \\right)}}{m} + \\frac{2 \\cos{\\left(x_{5} \\right)}}{m}\\right) + x_{5} \\left(- x_{5} \\left(- \\frac{x_{5} \\cos{\\left(x_{5} \\right)}}{m} - \\frac{3 \\sin{\\left(x_{5} \\right)}}{m}\\right) + \\frac{2 x_{5} \\sin{\\left(x_{5} \\right)}}{m} - \\frac{4 \\cos{\\left(x_{5} \\right)}}{m}\\right) - x_{5} \\cdot \\left(2 x_{5} \\left(- \\frac{x_{5} \\cos{\\left(x_{5} \\right)}}{m} - \\frac{3 \\sin{\\left(x_{5} \\right)}}{m}\\right) - x_{5} \\left(- x_{5} \\left(\\frac{x_{5} \\sin{\\left(x_{5} \\right)}}{m} - \\frac{4 \\cos{\\left(x_{5} \\right)}}{m}\\right) + \\frac{3 x_{5} \\cos{\\left(x_{5} \\right)}}{m} + \\frac{9 \\sin{\\left(x_{5} \\right)}}{m}\\right) - \\frac{4 x_{5} \\sin{\\left(x_{5} \\right)}}{m} + \\frac{8 \\cos{\\left(x_{5} \\right)}}{m}\\right) + x_{5} \\left(- 4 x_{5} \\left(- \\frac{x_{5} \\cos{\\left(x_{5} \\right)}}{m} - \\frac{3 \\sin{\\left(x_{5} \\right)}}{m}\\right) + 2 x_{5} \\left(- x_{5} \\left(\\frac{x_{5} \\sin{\\left(x_{5} \\right)}}{m} - \\frac{4 \\cos{\\left(x_{5} \\right)}}{m}\\right) + \\frac{3 x_{5} \\cos{\\left(x_{5} \\right)}}{m} + \\frac{9 \\sin{\\left(x_{5} \\right)}}{m}\\right) - x_{5} \\cdot \\left(3 x_{5} \\left(\\frac{x_{5} \\sin{\\left(x_{5} \\right)}}{m} - \\frac{4 \\cos{\\left(x_{5} \\right)}}{m}\\right) - x_{5} \\left(- x_{5} \\left(\\frac{x_{5} \\cos{\\left(x_{5} \\right)}}{m} + \\frac{5 \\sin{\\left(x_{5} \\right)}}{m}\\right) - \\frac{4 x_{5} \\sin{\\left(x_{5} \\right)}}{m} + \\frac{16 \\cos{\\left(x_{5} \\right)}}{m}\\right) - \\frac{9 x_{5} \\cos{\\left(x_{5} \\right)}}{m} - \\frac{27 \\sin{\\left(x_{5} \\right)}}{m}\\right) + \\frac{8 x_{5} \\sin{\\left(x_{5} \\right)}}{m} - \\frac{16 \\cos{\\left(x_{5} \\right)}}{m}\\right) - x_{5} \\cdot \\left(8 x_{5} \\left(- \\frac{x_{5} \\cos{\\left(x_{5} \\right)}}{m} - \\frac{3 \\sin{\\left(x_{5} \\right)}}{m}\\right) - 4 x_{5} \\left(- x_{5} \\left(\\frac{x_{5} \\sin{\\left(x_{5} \\right)}}{m} - \\frac{4 \\cos{\\left(x_{5} \\right)}}{m}\\right) + \\frac{3 x_{5} \\cos{\\left(x_{5} \\right)}}{m} + \\frac{9 \\sin{\\left(x_{5} \\right)}}{m}\\right) + 2 x_{5} \\cdot \\left(3 x_{5} \\left(\\frac{x_{5} \\sin{\\left(x_{5} \\right)}}{m} - \\frac{4 \\cos{\\left(x_{5} \\right)}}{m}\\right) - x_{5} \\left(- x_{5} \\left(\\frac{x_{5} \\cos{\\left(x_{5} \\right)}}{m} + \\frac{5 \\sin{\\left(x_{5} \\right)}}{m}\\right) - \\frac{4 x_{5} \\sin{\\left(x_{5} \\right)}}{m} + \\frac{16 \\cos{\\left(x_{5} \\right)}}{m}\\right) - \\frac{9 x_{5} \\cos{\\left(x_{5} \\right)}}{m} - \\frac{27 \\sin{\\left(x_{5} \\right)}}{m}\\right) - x_{5} \\left(- 9 x_{5} \\left(\\frac{x_{5} \\sin{\\left(x_{5} \\right)}}{m} - \\frac{4 \\cos{\\left(x_{5} \\right)}}{m}\\right) + 3 x_{5} \\left(- x_{5} \\left(\\frac{x_{5} \\cos{\\left(x_{5} \\right)}}{m} + \\frac{5 \\sin{\\left(x_{5} \\right)}}{m}\\right) - \\frac{4 x_{5} \\sin{\\left(x_{5} \\right)}}{m} + \\frac{16 \\cos{\\left(x_{5} \\right)}}{m}\\right) - x_{5} \\cdot \\left(4 x_{5} \\left(\\frac{x_{5} \\cos{\\left(x_{5} \\right)}}{m} + \\frac{5 \\sin{\\left(x_{5} \\right)}}{m}\\right) - x_{5} \\left(- x_{5} \\left(- \\frac{x_{5} \\sin{\\left(x_{5} \\right)}}{m} + \\frac{6 \\cos{\\left(x_{5} \\right)}}{m}\\right) - \\frac{5 x_{5} \\cos{\\left(x_{5} \\right)}}{m} - \\frac{25 \\sin{\\left(x_{5} \\right)}}{m}\\right) + \\frac{16 x_{5} \\sin{\\left(x_{5} \\right)}}{m} - \\frac{64 \\cos{\\left(x_{5} \\right)}}{m}\\right) + \\frac{27 x_{5} \\cos{\\left(x_{5} \\right)}}{m} + \\frac{81 \\sin{\\left(x_{5} \\right)}}{m}\\right) - \\frac{16 x_{5} \\sin{\\left(x_{5} \\right)}}{m} + \\frac{32 \\cos{\\left(x_{5} \\right)}}{m}\\right) - \\frac{x_{5} \\cos{\\left(x_{5} \\right)}}{m} - \\frac{\\sin{\\left(x_{5} \\right)}}{m}\\right)\\\\0\\\\0\\end{matrix}\\right]$"
      ],
      "text/plain": [
       "Matrix([\n",
       "[-x_5*(x_5*(x_5*cos(x_5)/m + 2*sin(x_5)/m) - x_5*(-x_5*(-x_5*sin(x_5)/m + 3*cos(x_5)/m) - 2*x_5*cos(x_5)/m - 4*sin(x_5)/m) + x_5*(2*x_5*(-x_5*sin(x_5)/m + 3*cos(x_5)/m) - x_5*(-x_5*(-x_5*cos(x_5)/m - 4*sin(x_5)/m) + 3*x_5*sin(x_5)/m - 9*cos(x_5)/m) + 4*x_5*cos(x_5)/m + 8*sin(x_5)/m) - x_5*(-4*x_5*(-x_5*sin(x_5)/m + 3*cos(x_5)/m) + 2*x_5*(-x_5*(-x_5*cos(x_5)/m - 4*sin(x_5)/m) + 3*x_5*sin(x_5)/m - 9*cos(x_5)/m) - x_5*(3*x_5*(-x_5*cos(x_5)/m - 4*sin(x_5)/m) - x_5*(-x_5*(x_5*sin(x_5)/m - 5*cos(x_5)/m) + 4*x_5*cos(x_5)/m + 16*sin(x_5)/m) - 9*x_5*sin(x_5)/m + 27*cos(x_5)/m) - 8*x_5*cos(x_5)/m - 16*sin(x_5)/m) + x_5*sin(x_5)/m - cos(x_5)/m) - x_5*(4*x_5*(x_5*cos(x_5)/m + 2*sin(x_5)/m) + x_5*(2*x_5*cos(x_5)/m + 4*sin(x_5)/m) - 3*x_5*(-x_5*(-x_5*sin(x_5)/m + 3*cos(x_5)/m) - 2*x_5*cos(x_5)/m - 4*sin(x_5)/m) - x_5*(-x_5*(-2*x_5*sin(x_5)/m + 6*cos(x_5)/m) - x_5*(-x_5*sin(x_5)/m + 3*cos(x_5)/m) - 6*x_5*cos(x_5)/m - 12*sin(x_5)/m) + 2*x_5*(2*x_5*(-x_5*sin(x_5)/m + 3*cos(x_5)/m) - x_5*(-x_5*(-x_5*cos(x_5)/m - 4*sin(x_5)/m) + 3*x_5*sin(x_5)/m - 9*cos(x_5)/m) + 4*x_5*cos(x_5)/m + 8*sin(x_5)/m) - x_5*(-4*x_5*(-x_5*sin(x_5)/m + 3*cos(x_5)/m) + 2*x_5*(-x_5*(-x_5*cos(x_5)/m - 4*sin(x_5)/m) + 3*x_5*sin(x_5)/m - 9*cos(x_5)/m) - x_5*(3*x_5*(-x_5*cos(x_5)/m - 4*sin(x_5)/m) - x_5*(-x_5*(x_5*sin(x_5)/m - 5*cos(x_5)/m) + 4*x_5*cos(x_5)/m + 16*sin(x_5)/m) - 9*x_5*sin(x_5)/m + 27*cos(x_5)/m) - 8*x_5*cos(x_5)/m - 16*sin(x_5)/m) + x_5*(2*x_5*(-2*x_5*sin(x_5)/m + 6*cos(x_5)/m) + 4*x_5*(-x_5*sin(x_5)/m + 3*cos(x_5)/m) - x_5*(-x_5*(-x_5*cos(x_5)/m - 4*sin(x_5)/m) + 3*x_5*sin(x_5)/m - 9*cos(x_5)/m) - x_5*(-x_5*(-2*x_5*cos(x_5)/m - 8*sin(x_5)/m) - x_5*(-x_5*cos(x_5)/m - 4*sin(x_5)/m) + 9*x_5*sin(x_5)/m - 27*cos(x_5)/m) + 16*x_5*cos(x_5)/m + 32*sin(x_5)/m) - x_5*(-4*x_5*(-2*x_5*sin(x_5)/m + 6*cos(x_5)/m) - 12*x_5*(-x_5*sin(x_5)/m + 3*cos(x_5)/m) + 4*x_5*(-x_5*(-x_5*cos(x_5)/m - 4*sin(x_5)/m) + 3*x_5*sin(x_5)/m - 9*cos(x_5)/m) + 2*x_5*(-x_5*(-2*x_5*cos(x_5)/m - 8*sin(x_5)/m) - x_5*(-x_5*cos(x_5)/m - 4*sin(x_5)/m) + 9*x_5*sin(x_5)/m - 27*cos(x_5)/m) - x_5*(3*x_5*(-x_5*cos(x_5)/m - 4*sin(x_5)/m) - x_5*(-x_5*(x_5*sin(x_5)/m - 5*cos(x_5)/m) + 4*x_5*cos(x_5)/m + 16*sin(x_5)/m) - 9*x_5*sin(x_5)/m + 27*cos(x_5)/m) - x_5*(3*x_5*(-2*x_5*cos(x_5)/m - 8*sin(x_5)/m) + 6*x_5*(-x_5*cos(x_5)/m - 4*sin(x_5)/m) - x_5*(-x_5*(x_5*sin(x_5)/m - 5*cos(x_5)/m) + 4*x_5*cos(x_5)/m + 16*sin(x_5)/m) - x_5*(-x_5*(x_5*sin(x_5)/m - 5*cos(x_5)/m) - x_5*(2*x_5*sin(x_5)/m - 10*cos(x_5)/m) + 12*x_5*cos(x_5)/m + 48*sin(x_5)/m) - 36*x_5*sin(x_5)/m + 108*cos(x_5)/m) - 40*x_5*cos(x_5)/m - 80*sin(x_5)/m) + 6*x_5*sin(x_5)/m - 6*cos(x_5)/m)],\n",
       "[                                                                                                                                                                                                                                                                                                                                                                                                                                                                                                                                                                                                                                                                                                                                                                                                                                                                                                                                                                                                                                                                                                                                                                                                                                                                                                                                                             -x_5*(-x_5*(x_5*cos(x_5)/m + 2*sin(x_5)/m) + x_5*(-x_5*(-x_5*sin(x_5)/m + 3*cos(x_5)/m) - 2*x_5*cos(x_5)/m - 4*sin(x_5)/m) - x_5*(2*x_5*(-x_5*sin(x_5)/m + 3*cos(x_5)/m) - x_5*(-x_5*(-x_5*cos(x_5)/m - 4*sin(x_5)/m) + 3*x_5*sin(x_5)/m - 9*cos(x_5)/m) + 4*x_5*cos(x_5)/m + 8*sin(x_5)/m) + x_5*(-4*x_5*(-x_5*sin(x_5)/m + 3*cos(x_5)/m) + 2*x_5*(-x_5*(-x_5*cos(x_5)/m - 4*sin(x_5)/m) + 3*x_5*sin(x_5)/m - 9*cos(x_5)/m) - x_5*(3*x_5*(-x_5*cos(x_5)/m - 4*sin(x_5)/m) - x_5*(-x_5*(x_5*sin(x_5)/m - 5*cos(x_5)/m) + 4*x_5*cos(x_5)/m + 16*sin(x_5)/m) - 9*x_5*sin(x_5)/m + 27*cos(x_5)/m) - 8*x_5*cos(x_5)/m - 16*sin(x_5)/m) - x_5*(8*x_5*(-x_5*sin(x_5)/m + 3*cos(x_5)/m) - 4*x_5*(-x_5*(-x_5*cos(x_5)/m - 4*sin(x_5)/m) + 3*x_5*sin(x_5)/m - 9*cos(x_5)/m) + 2*x_5*(3*x_5*(-x_5*cos(x_5)/m - 4*sin(x_5)/m) - x_5*(-x_5*(x_5*sin(x_5)/m - 5*cos(x_5)/m) + 4*x_5*cos(x_5)/m + 16*sin(x_5)/m) - 9*x_5*sin(x_5)/m + 27*cos(x_5)/m) - x_5*(-9*x_5*(-x_5*cos(x_5)/m - 4*sin(x_5)/m) + 3*x_5*(-x_5*(x_5*sin(x_5)/m - 5*cos(x_5)/m) + 4*x_5*cos(x_5)/m + 16*sin(x_5)/m) - x_5*(4*x_5*(x_5*sin(x_5)/m - 5*cos(x_5)/m) - x_5*(-x_5*(x_5*cos(x_5)/m + 6*sin(x_5)/m) - 5*x_5*sin(x_5)/m + 25*cos(x_5)/m) - 16*x_5*cos(x_5)/m - 64*sin(x_5)/m) + 27*x_5*sin(x_5)/m - 81*cos(x_5)/m) + 16*x_5*cos(x_5)/m + 32*sin(x_5)/m) - x_5*sin(x_5)/m + cos(x_5)/m)],\n",
       "[            -x_5*(x_5*(-x_5*sin(x_5)/m + 2*cos(x_5)/m) - x_5*(-x_5*(-x_5*cos(x_5)/m - 3*sin(x_5)/m) + 2*x_5*sin(x_5)/m - 4*cos(x_5)/m) + x_5*(2*x_5*(-x_5*cos(x_5)/m - 3*sin(x_5)/m) - x_5*(-x_5*(x_5*sin(x_5)/m - 4*cos(x_5)/m) + 3*x_5*cos(x_5)/m + 9*sin(x_5)/m) - 4*x_5*sin(x_5)/m + 8*cos(x_5)/m) - x_5*(-4*x_5*(-x_5*cos(x_5)/m - 3*sin(x_5)/m) + 2*x_5*(-x_5*(x_5*sin(x_5)/m - 4*cos(x_5)/m) + 3*x_5*cos(x_5)/m + 9*sin(x_5)/m) - x_5*(3*x_5*(x_5*sin(x_5)/m - 4*cos(x_5)/m) - x_5*(-x_5*(x_5*cos(x_5)/m + 5*sin(x_5)/m) - 4*x_5*sin(x_5)/m + 16*cos(x_5)/m) - 9*x_5*cos(x_5)/m - 27*sin(x_5)/m) + 8*x_5*sin(x_5)/m - 16*cos(x_5)/m) + x_5*cos(x_5)/m + sin(x_5)/m) - x_5*(x_5*(-2*x_5*sin(x_5)/m + 4*cos(x_5)/m) + 4*x_5*(-x_5*sin(x_5)/m + 2*cos(x_5)/m) - 3*x_5*(-x_5*(-x_5*cos(x_5)/m - 3*sin(x_5)/m) + 2*x_5*sin(x_5)/m - 4*cos(x_5)/m) - x_5*(-x_5*(-2*x_5*cos(x_5)/m - 6*sin(x_5)/m) - x_5*(-x_5*cos(x_5)/m - 3*sin(x_5)/m) + 6*x_5*sin(x_5)/m - 12*cos(x_5)/m) + 2*x_5*(2*x_5*(-x_5*cos(x_5)/m - 3*sin(x_5)/m) - x_5*(-x_5*(x_5*sin(x_5)/m - 4*cos(x_5)/m) + 3*x_5*cos(x_5)/m + 9*sin(x_5)/m) - 4*x_5*sin(x_5)/m + 8*cos(x_5)/m) - x_5*(-4*x_5*(-x_5*cos(x_5)/m - 3*sin(x_5)/m) + 2*x_5*(-x_5*(x_5*sin(x_5)/m - 4*cos(x_5)/m) + 3*x_5*cos(x_5)/m + 9*sin(x_5)/m) - x_5*(3*x_5*(x_5*sin(x_5)/m - 4*cos(x_5)/m) - x_5*(-x_5*(x_5*cos(x_5)/m + 5*sin(x_5)/m) - 4*x_5*sin(x_5)/m + 16*cos(x_5)/m) - 9*x_5*cos(x_5)/m - 27*sin(x_5)/m) + 8*x_5*sin(x_5)/m - 16*cos(x_5)/m) + x_5*(2*x_5*(-2*x_5*cos(x_5)/m - 6*sin(x_5)/m) + 4*x_5*(-x_5*cos(x_5)/m - 3*sin(x_5)/m) - x_5*(-x_5*(x_5*sin(x_5)/m - 4*cos(x_5)/m) + 3*x_5*cos(x_5)/m + 9*sin(x_5)/m) - x_5*(-x_5*(x_5*sin(x_5)/m - 4*cos(x_5)/m) - x_5*(2*x_5*sin(x_5)/m - 8*cos(x_5)/m) + 9*x_5*cos(x_5)/m + 27*sin(x_5)/m) - 16*x_5*sin(x_5)/m + 32*cos(x_5)/m) - x_5*(-4*x_5*(-2*x_5*cos(x_5)/m - 6*sin(x_5)/m) - 12*x_5*(-x_5*cos(x_5)/m - 3*sin(x_5)/m) + 4*x_5*(-x_5*(x_5*sin(x_5)/m - 4*cos(x_5)/m) + 3*x_5*cos(x_5)/m + 9*sin(x_5)/m) + 2*x_5*(-x_5*(x_5*sin(x_5)/m - 4*cos(x_5)/m) - x_5*(2*x_5*sin(x_5)/m - 8*cos(x_5)/m) + 9*x_5*cos(x_5)/m + 27*sin(x_5)/m) - x_5*(3*x_5*(x_5*sin(x_5)/m - 4*cos(x_5)/m) - x_5*(-x_5*(x_5*cos(x_5)/m + 5*sin(x_5)/m) - 4*x_5*sin(x_5)/m + 16*cos(x_5)/m) - 9*x_5*cos(x_5)/m - 27*sin(x_5)/m) - x_5*(6*x_5*(x_5*sin(x_5)/m - 4*cos(x_5)/m) + 3*x_5*(2*x_5*sin(x_5)/m - 8*cos(x_5)/m) - x_5*(-x_5*(x_5*cos(x_5)/m + 5*sin(x_5)/m) - 4*x_5*sin(x_5)/m + 16*cos(x_5)/m) - x_5*(-x_5*(x_5*cos(x_5)/m + 5*sin(x_5)/m) - x_5*(2*x_5*cos(x_5)/m + 10*sin(x_5)/m) - 12*x_5*sin(x_5)/m + 48*cos(x_5)/m) - 36*x_5*cos(x_5)/m - 108*sin(x_5)/m) + 40*x_5*sin(x_5)/m - 80*cos(x_5)/m) + 6*x_5*cos(x_5)/m + 6*sin(x_5)/m)],\n",
       "[                                                                                                                                                                                                                                                                                                                                                                                                                                                                                                                                                                                                                                                                                                                                                                                                                                                                                                                                                                                                                                                                                                                                                                                                                                                                                                                                                                 -x_5*(-x_5*(-x_5*sin(x_5)/m + 2*cos(x_5)/m) + x_5*(-x_5*(-x_5*cos(x_5)/m - 3*sin(x_5)/m) + 2*x_5*sin(x_5)/m - 4*cos(x_5)/m) - x_5*(2*x_5*(-x_5*cos(x_5)/m - 3*sin(x_5)/m) - x_5*(-x_5*(x_5*sin(x_5)/m - 4*cos(x_5)/m) + 3*x_5*cos(x_5)/m + 9*sin(x_5)/m) - 4*x_5*sin(x_5)/m + 8*cos(x_5)/m) + x_5*(-4*x_5*(-x_5*cos(x_5)/m - 3*sin(x_5)/m) + 2*x_5*(-x_5*(x_5*sin(x_5)/m - 4*cos(x_5)/m) + 3*x_5*cos(x_5)/m + 9*sin(x_5)/m) - x_5*(3*x_5*(x_5*sin(x_5)/m - 4*cos(x_5)/m) - x_5*(-x_5*(x_5*cos(x_5)/m + 5*sin(x_5)/m) - 4*x_5*sin(x_5)/m + 16*cos(x_5)/m) - 9*x_5*cos(x_5)/m - 27*sin(x_5)/m) + 8*x_5*sin(x_5)/m - 16*cos(x_5)/m) - x_5*(8*x_5*(-x_5*cos(x_5)/m - 3*sin(x_5)/m) - 4*x_5*(-x_5*(x_5*sin(x_5)/m - 4*cos(x_5)/m) + 3*x_5*cos(x_5)/m + 9*sin(x_5)/m) + 2*x_5*(3*x_5*(x_5*sin(x_5)/m - 4*cos(x_5)/m) - x_5*(-x_5*(x_5*cos(x_5)/m + 5*sin(x_5)/m) - 4*x_5*sin(x_5)/m + 16*cos(x_5)/m) - 9*x_5*cos(x_5)/m - 27*sin(x_5)/m) - x_5*(-9*x_5*(x_5*sin(x_5)/m - 4*cos(x_5)/m) + 3*x_5*(-x_5*(x_5*cos(x_5)/m + 5*sin(x_5)/m) - 4*x_5*sin(x_5)/m + 16*cos(x_5)/m) - x_5*(4*x_5*(x_5*cos(x_5)/m + 5*sin(x_5)/m) - x_5*(-x_5*(-x_5*sin(x_5)/m + 6*cos(x_5)/m) - 5*x_5*cos(x_5)/m - 25*sin(x_5)/m) + 16*x_5*sin(x_5)/m - 64*cos(x_5)/m) + 27*x_5*cos(x_5)/m + 81*sin(x_5)/m) - 16*x_5*sin(x_5)/m + 32*cos(x_5)/m) - x_5*cos(x_5)/m - sin(x_5)/m)],\n",
       "[                                                                                                                                                                                                                                                                                                                                                                                                                                                                                                                                                                                                                                                                                                                                                                                                                                                                                                                                                                                                                                                                                                                                                                                                                                                                                                                                                                                                                                                                                                                                                                                                                                                                                                                                                                                                                                                                                                                                                                                                                                                                                                                                                                                                                                                                                                                                                                                                                                                                                                                                                                                                                                                                                                              0],\n",
       "[                                                                                                                                                                                                                                                                                                                                                                                                                                                                                                                                                                                                                                                                                                                                                                                                                                                                                                                                                                                                                                                                                                                                                                                                                                                                                                                                                                                                                                                                                                                                                                                                                                                                                                                                                                                                                                                                                                                                                                                                                                                                                                                                                                                                                                                                                                                                                                                                                                                                                                                                                                                                                                                                                                              0]])"
      ]
     },
     "execution_count": 43,
     "metadata": {},
     "output_type": "execute_result"
    }
   ],
   "source": [
    "c = lieBracket(c,f, x)\n",
    "c"
   ]
  },
  {
   "cell_type": "code",
   "execution_count": 8,
   "metadata": {},
   "outputs": [
    {
     "data": {
      "text/latex": [
       "$\\displaystyle \\left[\\begin{matrix}0\\\\0\\\\0\\\\0\\\\\\frac{1}{J}\\\\0\\end{matrix}\\right]$"
      ],
      "text/plain": [
       "Matrix([\n",
       "[  0],\n",
       "[  0],\n",
       "[  0],\n",
       "[  0],\n",
       "[1/J],\n",
       "[  0]])"
      ]
     },
     "execution_count": 8,
     "metadata": {},
     "output_type": "execute_result"
    }
   ],
   "source": [
    "lieBracket(g2,f, x)"
   ]
  },
  {
   "cell_type": "code",
   "execution_count": 48,
   "metadata": {},
   "outputs": [
    {
     "data": {
      "text/latex": [
       "$\\displaystyle \\left[\\begin{matrix}x_{2}\\\\0\\\\x_{4}\\\\- g m\\\\x_{5}\\\\0\\end{matrix}\\right]$"
      ],
      "text/plain": [
       "Matrix([\n",
       "[ x_2],\n",
       "[   0],\n",
       "[ x_4],\n",
       "[-g*m],\n",
       "[ x_5],\n",
       "[   0]])"
      ]
     },
     "execution_count": 48,
     "metadata": {},
     "output_type": "execute_result"
    }
   ],
   "source": [
    "f"
   ]
  },
  {
   "cell_type": "code",
   "execution_count": 14,
   "metadata": {},
   "outputs": [
    {
     "data": {
      "text/latex": [
       "$\\displaystyle \\left[\\begin{matrix}x_{2} & 0\\\\0 & \\frac{\\sin{\\left(x_{5} \\right)}}{m}\\\\x_{4} & 0\\\\- g & \\frac{\\cos{\\left(x_{5} \\right)}}{m}\\\\x_{6} & 0\\\\0 & 0\\end{matrix}\\right]$"
      ],
      "text/plain": [
       "Matrix([\n",
       "[x_2,          0],\n",
       "[  0, sin(x_5)/m],\n",
       "[x_4,          0],\n",
       "[ -g, cos(x_5)/m],\n",
       "[x_6,          0],\n",
       "[  0,          0]])"
      ]
     },
     "execution_count": 14,
     "metadata": {},
     "output_type": "execute_result"
    }
   ],
   "source": [
    "f.row_join(g1)"
   ]
  },
  {
   "cell_type": "code",
   "execution_count": 31,
   "metadata": {},
   "outputs": [],
   "source": [
    "def isInDist(dist, vec):\n",
    "    \"\"\"\n",
    "    Is vec in distribution dist?\n",
    "    \"\"\"\n",
    "    d = dist[0].copy()\n",
    "    for i in range(len(dist)-1):\n",
    "        d = d.row_join(dist[i+1])\n",
    "    rank1 = d.rank()\n",
    "    d = d.row_join(vec)\n",
    "    rank2 = d.rank()\n",
    "    if rank2 > rank1:\n",
    "        return False\n",
    "    else:\n",
    "        return True\n",
    "    \n",
    "def getDistRank(dist):\n",
    "    \"\"\"\n",
    "    return the rank of distribution spanned by list of vecs in dist\n",
    "    \"\"\"\n",
    "    d = dist[0].copy()\n",
    "    for i in range(len(dist)-1):\n",
    "        d = d.row_join(dist[i+1])\n",
    "    return d.rank()\n",
    "\n",
    "def getSmallestInvariantDistribution(dist, vec_fields, x):\n",
    "    \"\"\"\n",
    "    Returns the smallest distribution invariant to vectors in the \n",
    "    vec_fields list and containing distribution spanned by the \n",
    "    vector fields in dist list. \n",
    "    \"\"\"\n",
    "    running = True\n",
    "    result = []\n",
    "    result +=dist\n",
    "    while running:\n",
    "        added_something = False\n",
    "        for vec1 in result:\n",
    "            for vec2 in vec_fields:\n",
    "                vec3 = lieBracket(vec1, vec2, x)\n",
    "                if not isInDist(result, vec3):\n",
    "                    result +=[vec3]\n",
    "                    added_something = True\n",
    "        if not added_something:\n",
    "            running = False\n",
    "    \n",
    "    return result\n",
    "                    \n",
    "        "
   ]
  },
  {
   "cell_type": "code",
   "execution_count": 34,
   "metadata": {},
   "outputs": [
    {
     "data": {
      "text/plain": [
       "True"
      ]
     },
     "execution_count": 34,
     "metadata": {},
     "output_type": "execute_result"
    }
   ],
   "source": [
    "isInDist([g2,g2,f], f)"
   ]
  },
  {
   "cell_type": "code",
   "execution_count": 37,
   "metadata": {},
   "outputs": [],
   "source": [
    "result = getSmallestInvariantDistribution([g1,g2], [f,g1,g2],x)"
   ]
  },
  {
   "cell_type": "code",
   "execution_count": 38,
   "metadata": {},
   "outputs": [
    {
     "data": {
      "text/plain": [
       "6"
      ]
     },
     "execution_count": 38,
     "metadata": {},
     "output_type": "execute_result"
    }
   ],
   "source": [
    "len(result)"
   ]
  },
  {
   "cell_type": "code",
   "execution_count": null,
   "metadata": {},
   "outputs": [],
   "source": []
  }
 ],
 "metadata": {
  "kernelspec": {
   "display_name": "Python 3",
   "language": "python",
   "name": "python3"
  },
  "language_info": {
   "codemirror_mode": {
    "name": "ipython",
    "version": 3
   },
   "file_extension": ".py",
   "mimetype": "text/x-python",
   "name": "python",
   "nbconvert_exporter": "python",
   "pygments_lexer": "ipython3",
   "version": "3.8.10"
  }
 },
 "nbformat": 4,
 "nbformat_minor": 2
}
